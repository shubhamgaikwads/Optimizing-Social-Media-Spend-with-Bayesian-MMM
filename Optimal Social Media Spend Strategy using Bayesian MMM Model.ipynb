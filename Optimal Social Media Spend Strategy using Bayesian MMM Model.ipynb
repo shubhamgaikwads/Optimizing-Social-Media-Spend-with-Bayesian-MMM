{
 "cells": [
  {
   "cell_type": "code",
   "execution_count": 1,
   "id": "ba331096",
   "metadata": {},
   "outputs": [],
   "source": [
    "#!pip install pymc arviz"
   ]
  },
  {
   "cell_type": "code",
   "execution_count": 2,
   "id": "c61fa38f",
   "metadata": {},
   "outputs": [],
   "source": [
    "import pymc as pm\n",
    "import arviz as az\n",
    "import numpy as np\n",
    "import pandas as pd\n",
    "import matplotlib.pyplot as plt"
   ]
  },
  {
   "cell_type": "code",
   "execution_count": 7,
   "id": "b4230f2a",
   "metadata": {},
   "outputs": [],
   "source": [
    "data = pd.DataFrame({\n",
    "    'Instagram': np.random.uniform(50, 200, 100),\n",
    "    'Facebook': np.random.uniform(50, 200, 100),\n",
    "    'Twitter': np.random.uniform(50, 200, 100),\n",
    "    'TikTok': np.random.uniform(50, 200, 100),\n",
    "    'ContentType': np.random.choice(['Video', 'Image', 'Text'], 100),\n",
    "    'TargetGroup': np.random.choice(['Teen', 'Adult', 'Senior'], 100),\n",
    "    'Sales': np.random.uniform(100, 500, 100),\n",
    "})"
   ]
  },
  {
   "cell_type": "code",
   "execution_count": 8,
   "id": "bf636672",
   "metadata": {},
   "outputs": [
    {
     "data": {
      "text/html": [
       "<div>\n",
       "<style scoped>\n",
       "    .dataframe tbody tr th:only-of-type {\n",
       "        vertical-align: middle;\n",
       "    }\n",
       "\n",
       "    .dataframe tbody tr th {\n",
       "        vertical-align: top;\n",
       "    }\n",
       "\n",
       "    .dataframe thead th {\n",
       "        text-align: right;\n",
       "    }\n",
       "</style>\n",
       "<table border=\"1\" class=\"dataframe\">\n",
       "  <thead>\n",
       "    <tr style=\"text-align: right;\">\n",
       "      <th></th>\n",
       "      <th>Instagram</th>\n",
       "      <th>Facebook</th>\n",
       "      <th>Twitter</th>\n",
       "      <th>TikTok</th>\n",
       "      <th>ContentType</th>\n",
       "      <th>TargetGroup</th>\n",
       "      <th>Sales</th>\n",
       "    </tr>\n",
       "  </thead>\n",
       "  <tbody>\n",
       "    <tr>\n",
       "      <th>0</th>\n",
       "      <td>186.114939</td>\n",
       "      <td>137.348440</td>\n",
       "      <td>111.687010</td>\n",
       "      <td>123.422873</td>\n",
       "      <td>Image</td>\n",
       "      <td>Adult</td>\n",
       "      <td>262.730006</td>\n",
       "    </tr>\n",
       "    <tr>\n",
       "      <th>1</th>\n",
       "      <td>120.432813</td>\n",
       "      <td>174.706537</td>\n",
       "      <td>144.450466</td>\n",
       "      <td>169.807256</td>\n",
       "      <td>Video</td>\n",
       "      <td>Senior</td>\n",
       "      <td>254.324300</td>\n",
       "    </tr>\n",
       "    <tr>\n",
       "      <th>2</th>\n",
       "      <td>81.381999</td>\n",
       "      <td>175.391604</td>\n",
       "      <td>78.088914</td>\n",
       "      <td>128.870421</td>\n",
       "      <td>Text</td>\n",
       "      <td>Senior</td>\n",
       "      <td>201.786481</td>\n",
       "    </tr>\n",
       "    <tr>\n",
       "      <th>3</th>\n",
       "      <td>199.751569</td>\n",
       "      <td>95.228723</td>\n",
       "      <td>83.814072</td>\n",
       "      <td>70.056636</td>\n",
       "      <td>Image</td>\n",
       "      <td>Adult</td>\n",
       "      <td>459.756648</td>\n",
       "    </tr>\n",
       "    <tr>\n",
       "      <th>4</th>\n",
       "      <td>100.625929</td>\n",
       "      <td>193.804476</td>\n",
       "      <td>189.343537</td>\n",
       "      <td>199.233688</td>\n",
       "      <td>Image</td>\n",
       "      <td>Senior</td>\n",
       "      <td>268.269815</td>\n",
       "    </tr>\n",
       "    <tr>\n",
       "      <th>5</th>\n",
       "      <td>174.458977</td>\n",
       "      <td>199.211201</td>\n",
       "      <td>87.091471</td>\n",
       "      <td>135.056058</td>\n",
       "      <td>Image</td>\n",
       "      <td>Adult</td>\n",
       "      <td>293.960745</td>\n",
       "    </tr>\n",
       "    <tr>\n",
       "      <th>6</th>\n",
       "      <td>177.607702</td>\n",
       "      <td>105.942897</td>\n",
       "      <td>69.105913</td>\n",
       "      <td>107.598955</td>\n",
       "      <td>Video</td>\n",
       "      <td>Teen</td>\n",
       "      <td>429.694962</td>\n",
       "    </tr>\n",
       "    <tr>\n",
       "      <th>7</th>\n",
       "      <td>146.150201</td>\n",
       "      <td>182.837537</td>\n",
       "      <td>173.072092</td>\n",
       "      <td>114.858861</td>\n",
       "      <td>Video</td>\n",
       "      <td>Teen</td>\n",
       "      <td>323.282674</td>\n",
       "    </tr>\n",
       "    <tr>\n",
       "      <th>8</th>\n",
       "      <td>138.686616</td>\n",
       "      <td>132.795946</td>\n",
       "      <td>190.119788</td>\n",
       "      <td>131.834190</td>\n",
       "      <td>Image</td>\n",
       "      <td>Senior</td>\n",
       "      <td>267.872527</td>\n",
       "    </tr>\n",
       "    <tr>\n",
       "      <th>9</th>\n",
       "      <td>174.521381</td>\n",
       "      <td>156.492578</td>\n",
       "      <td>96.105478</td>\n",
       "      <td>75.846485</td>\n",
       "      <td>Image</td>\n",
       "      <td>Adult</td>\n",
       "      <td>435.138026</td>\n",
       "    </tr>\n",
       "  </tbody>\n",
       "</table>\n",
       "</div>"
      ],
      "text/plain": [
       "    Instagram    Facebook     Twitter      TikTok ContentType TargetGroup  \\\n",
       "0  186.114939  137.348440  111.687010  123.422873       Image       Adult   \n",
       "1  120.432813  174.706537  144.450466  169.807256       Video      Senior   \n",
       "2   81.381999  175.391604   78.088914  128.870421        Text      Senior   \n",
       "3  199.751569   95.228723   83.814072   70.056636       Image       Adult   \n",
       "4  100.625929  193.804476  189.343537  199.233688       Image      Senior   \n",
       "5  174.458977  199.211201   87.091471  135.056058       Image       Adult   \n",
       "6  177.607702  105.942897   69.105913  107.598955       Video        Teen   \n",
       "7  146.150201  182.837537  173.072092  114.858861       Video        Teen   \n",
       "8  138.686616  132.795946  190.119788  131.834190       Image      Senior   \n",
       "9  174.521381  156.492578   96.105478   75.846485       Image       Adult   \n",
       "\n",
       "        Sales  \n",
       "0  262.730006  \n",
       "1  254.324300  \n",
       "2  201.786481  \n",
       "3  459.756648  \n",
       "4  268.269815  \n",
       "5  293.960745  \n",
       "6  429.694962  \n",
       "7  323.282674  \n",
       "8  267.872527  \n",
       "9  435.138026  "
      ]
     },
     "execution_count": 8,
     "metadata": {},
     "output_type": "execute_result"
    }
   ],
   "source": [
    "data.head(10)"
   ]
  },
  {
   "cell_type": "code",
   "execution_count": 9,
   "id": "a0a43066",
   "metadata": {},
   "outputs": [
    {
     "name": "stdout",
     "output_type": "stream",
     "text": [
      "<class 'pandas.core.frame.DataFrame'>\n",
      "RangeIndex: 100 entries, 0 to 99\n",
      "Data columns (total 7 columns):\n",
      " #   Column       Non-Null Count  Dtype  \n",
      "---  ------       --------------  -----  \n",
      " 0   Instagram    100 non-null    float64\n",
      " 1   Facebook     100 non-null    float64\n",
      " 2   Twitter      100 non-null    float64\n",
      " 3   TikTok       100 non-null    float64\n",
      " 4   ContentType  100 non-null    object \n",
      " 5   TargetGroup  100 non-null    object \n",
      " 6   Sales        100 non-null    float64\n",
      "dtypes: float64(5), object(2)\n",
      "memory usage: 5.6+ KB\n"
     ]
    }
   ],
   "source": [
    "data.info()"
   ]
  },
  {
   "cell_type": "code",
   "execution_count": 10,
   "id": "83585213",
   "metadata": {},
   "outputs": [
    {
     "name": "stderr",
     "output_type": "stream",
     "text": [
      "Auto-assigning NUTS sampler...\n",
      "Initializing NUTS using jitter+adapt_diag...\n",
      "Sequential sampling (2 chains in 1 job)\n",
      "NUTS: [beta_instagram, beta_facebook, beta_twitter, beta_tiktok, intercept, sigma]\n"
     ]
    },
    {
     "data": {
      "text/html": [
       "\n",
       "<style>\n",
       "    /* Turns off some styling */\n",
       "    progress {\n",
       "        /* gets rid of default border in Firefox and Opera. */\n",
       "        border: none;\n",
       "        /* Needs to be in here for Safari polyfill so background images work as expected. */\n",
       "        background-size: auto;\n",
       "    }\n",
       "    progress:not([value]), progress:not([value])::-webkit-progress-bar {\n",
       "        background: repeating-linear-gradient(45deg, #7e7e7e, #7e7e7e 10px, #5c5c5c 10px, #5c5c5c 20px);\n",
       "    }\n",
       "    .progress-bar-interrupted, .progress-bar-interrupted::-webkit-progress-bar {\n",
       "        background: #F44336;\n",
       "    }\n",
       "</style>\n"
      ],
      "text/plain": [
       "<IPython.core.display.HTML object>"
      ]
     },
     "metadata": {},
     "output_type": "display_data"
    },
    {
     "data": {
      "text/html": [
       "\n",
       "    <div>\n",
       "      <progress value='3000' class='' max='3000' style='width:300px; height:20px; vertical-align: middle;'></progress>\n",
       "      100.00% [3000/3000 00:09&lt;00:00 Sampling chain 0, 0 divergences]\n",
       "    </div>\n",
       "    "
      ],
      "text/plain": [
       "<IPython.core.display.HTML object>"
      ]
     },
     "metadata": {},
     "output_type": "display_data"
    },
    {
     "data": {
      "text/html": [
       "\n",
       "<style>\n",
       "    /* Turns off some styling */\n",
       "    progress {\n",
       "        /* gets rid of default border in Firefox and Opera. */\n",
       "        border: none;\n",
       "        /* Needs to be in here for Safari polyfill so background images work as expected. */\n",
       "        background-size: auto;\n",
       "    }\n",
       "    progress:not([value]), progress:not([value])::-webkit-progress-bar {\n",
       "        background: repeating-linear-gradient(45deg, #7e7e7e, #7e7e7e 10px, #5c5c5c 10px, #5c5c5c 20px);\n",
       "    }\n",
       "    .progress-bar-interrupted, .progress-bar-interrupted::-webkit-progress-bar {\n",
       "        background: #F44336;\n",
       "    }\n",
       "</style>\n"
      ],
      "text/plain": [
       "<IPython.core.display.HTML object>"
      ]
     },
     "metadata": {},
     "output_type": "display_data"
    },
    {
     "data": {
      "text/html": [
       "\n",
       "    <div>\n",
       "      <progress value='3000' class='' max='3000' style='width:300px; height:20px; vertical-align: middle;'></progress>\n",
       "      100.00% [3000/3000 00:10&lt;00:00 Sampling chain 1, 0 divergences]\n",
       "    </div>\n",
       "    "
      ],
      "text/plain": [
       "<IPython.core.display.HTML object>"
      ]
     },
     "metadata": {},
     "output_type": "display_data"
    },
    {
     "name": "stderr",
     "output_type": "stream",
     "text": [
      "Sampling 2 chains for 1_000 tune and 2_000 draw iterations (2_000 + 4_000 draws total) took 20 seconds.\n",
      "We recommend running at least 4 chains for robust computation of convergence diagnostics\n"
     ]
    }
   ],
   "source": [
    "with pm.Model() as marketing_mix_model:\n",
    "    beta_instagram = pm.Normal(\"beta_instagram\", mu=0, sigma=10)\n",
    "    beta_facebook = pm.Normal(\"beta_facebook\", mu=0, sigma=10)\n",
    "    beta_twitter = pm.Normal(\"beta_twitter\", mu=0, sigma=10)\n",
    "    beta_tiktok = pm.Normal(\"beta_tiktok\", mu=0, sigma=10)\n",
    "    \n",
    "    intercept = pm.Normal(\"intercept\", mu=0, sigma=10)\n",
    "    sigma = pm.HalfNormal(\"sigma\", sigma=10)\n",
    "    \n",
    "    # Linear model to predict sales based on marketing spend\n",
    "    mu = (\n",
    "        intercept +\n",
    "        beta_instagram * data['Instagram'] +\n",
    "        beta_facebook * data['Facebook'] +\n",
    "        beta_twitter * data['Twitter'] +\n",
    "        beta_tiktok * data['TikTok']\n",
    "    )\n",
    "    \n",
    "    # Likelihood for observed data\n",
    "    sales = pm.Normal(\"sales\", mu=mu, sigma=sigma, observed=data['Sales'])\n",
    "    \n",
    "    # Sample the posterior\n",
    "    trace = pm.sample(2000, tune=1000, cores=1, return_inferencedata=True)"
   ]
  },
  {
   "cell_type": "code",
   "execution_count": null,
   "id": "d0e504ef",
   "metadata": {},
   "outputs": [],
   "source": [
    "#!pip install fastapi uvicorn"
   ]
  },
  {
   "cell_type": "code",
   "execution_count": 11,
   "id": "b9915078",
   "metadata": {},
   "outputs": [],
   "source": [
    "# Function to calculate optimal marketing spend based on Bayesian coefficients\n",
    "def calculate_optimal_spend(trace, budget, content_type, target_group):\n",
    "    # Extract posterior means for each coefficient\n",
    "    beta_instagram = np.mean(az.extract_dataset(trace)[\"beta_instagram\"])\n",
    "    beta_facebook = np.mean(az.extract_dataset(trace)[\"beta_facebook\"])\n",
    "    beta_twitter = np.mean(az.extract_dataset(trace)[\"beta_twitter\"])\n",
    "    beta_tiktok = np.mean(az.extract_dataset(trace)[\"beta_tiktok\"])\n",
    "\n",
    "    # Calculate initial proportions for each channel\n",
    "    total_coeff = beta_instagram + beta_facebook + beta_twitter + beta_tiktok\n",
    "    instagram_proportion = beta_instagram / total_coeff\n",
    "    facebook_proportion = beta_facebook / total_coeff\n",
    "    twitter_proportion = beta_twitter / total_coeff\n",
    "    tiktok_proportion = beta_tiktok / total_coeff\n",
    "    \n",
    "    # Default optimal spend based on budget and proportions\n",
    "    optimal_spend = {\n",
    "        \"Instagram\": budget * instagram_proportion,\n",
    "        \"Facebook\": budget * facebook_proportion,\n",
    "        \"Twitter\": budget * twitter_proportion,\n",
    "        \"TikTok\": budget * tiktok_proportion,\n",
    "    }\n",
    "\n",
    "    # Adjustments based on content type\n",
    "    if content_type == 'Video':\n",
    "        # Favor channels known for video content\n",
    "        optimal_spend[\"Instagram\"] *= 1.2\n",
    "        optimal_spend[\"TikTok\"] *= 1.2\n",
    "\n",
    "    if content_type == 'Image':\n",
    "        # Favor Instagram and Facebook for image-based content\n",
    "        optimal_spend[\"Instagram\"] *= 1.1\n",
    "        optimal_spend[\"Facebook\"] *= 1.1\n",
    "\n",
    "    if content_type == 'Text':\n",
    "        # Favor Facebook and Twitter for text-based content\n",
    "        optimal_spend[\"Facebook\"] *= 1.1\n",
    "        optimal_spend[\"Twitter\"] *= 1.1\n",
    "\n",
    "    # Adjustments based on target group\n",
    "    if target_group == 'Teen':\n",
    "        optimal_spend[\"Instagram\"] *= 1.1\n",
    "        optimal_spend[\"TikTok\"] *= 1.2\n",
    "\n",
    "    if target_group == 'Adult':\n",
    "        optimal_spend[\"Facebook\"] *= 1.1\n",
    "        optimal_spend[\"Twitter\"] *= 1.1\n",
    "\n",
    "    if target_group == 'Senior':\n",
    "        optimal_spend[\"Facebook\"] *= 1.2\n",
    "        optimal_spend[\"Twitter\"] *= 1.2\n",
    "    \n",
    "    # Normalize to ensure budget constraint\n",
    "    total_spend = sum(optimal_spend.values())\n",
    "    if total_spend > budget:\n",
    "        adjustment_factor = budget / total_spend\n",
    "        for channel in optimal_spend:\n",
    "            optimal_spend[channel] *= adjustment_factor\n",
    "    \n",
    "    return optimal_spend"
   ]
  },
  {
   "cell_type": "code",
   "execution_count": 12,
   "id": "a5e043a3",
   "metadata": {},
   "outputs": [
    {
     "name": "stdout",
     "output_type": "stream",
     "text": [
      "Optimal marketing spend allocation:\n",
      "Instagram: $420.27\n",
      "Facebook: $82.98\n",
      "Twitter: $239.12\n",
      "TikTok: $257.64\n"
     ]
    },
    {
     "name": "stderr",
     "output_type": "stream",
     "text": [
      "/var/folders/rs/lghzr3gd4bd05ypml1jl8dlc0000gn/T/ipykernel_14547/1276860184.py:4: FutureWarning: extract_dataset has been deprecated, please use extract\n",
      "  beta_instagram = np.mean(az.extract_dataset(trace)[\"beta_instagram\"])\n",
      "/var/folders/rs/lghzr3gd4bd05ypml1jl8dlc0000gn/T/ipykernel_14547/1276860184.py:5: FutureWarning: extract_dataset has been deprecated, please use extract\n",
      "  beta_facebook = np.mean(az.extract_dataset(trace)[\"beta_facebook\"])\n",
      "/var/folders/rs/lghzr3gd4bd05ypml1jl8dlc0000gn/T/ipykernel_14547/1276860184.py:6: FutureWarning: extract_dataset has been deprecated, please use extract\n",
      "  beta_twitter = np.mean(az.extract_dataset(trace)[\"beta_twitter\"])\n",
      "/var/folders/rs/lghzr3gd4bd05ypml1jl8dlc0000gn/T/ipykernel_14547/1276860184.py:7: FutureWarning: extract_dataset has been deprecated, please use extract\n",
      "  beta_tiktok = np.mean(az.extract_dataset(trace)[\"beta_tiktok\"])\n"
     ]
    }
   ],
   "source": [
    "# Example input: given budget, content type, and target group\n",
    "total_budget = 1000\n",
    "content_type = \"Video\"\n",
    "target_group = \"Teen\"\n",
    "\n",
    "# Calculate optimal spend with updated marketing channels and given budget, content type, and target group\n",
    "optimal_spend = calculate_optimal_spend(trace, total_budget, content_type, target_group)\n",
    "\n",
    "# Display the optimal spend for each marketing channel\n",
    "print(\"Optimal marketing spend allocation:\")\n",
    "for channel, spend in optimal_spend.items():\n",
    "    print(f\"{channel}: ${spend:.2f}\")"
   ]
  },
  {
   "cell_type": "code",
   "execution_count": null,
   "id": "a2bd88ef",
   "metadata": {},
   "outputs": [],
   "source": []
  }
 ],
 "metadata": {
  "kernelspec": {
   "display_name": "Python 3 (ipykernel)",
   "language": "python",
   "name": "python3"
  },
  "language_info": {
   "codemirror_mode": {
    "name": "ipython",
    "version": 3
   },
   "file_extension": ".py",
   "mimetype": "text/x-python",
   "name": "python",
   "nbconvert_exporter": "python",
   "pygments_lexer": "ipython3",
   "version": "3.10.9"
  }
 },
 "nbformat": 4,
 "nbformat_minor": 5
}
